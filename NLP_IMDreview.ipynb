{
  "nbformat": 4,
  "nbformat_minor": 0,
  "metadata": {
    "colab": {
      "name": "NLP_IMDreview.ipynb",
      "provenance": [],
      "collapsed_sections": []
    },
    "kernelspec": {
      "name": "python3",
      "display_name": "Python 3"
    },
    "accelerator": "GPU"
  },
  "cells": [
    {
      "cell_type": "code",
      "metadata": {
        "id": "M6bsUlwgkE0I",
        "colab": {
          "base_uri": "https://localhost:8080/",
          "height": 51
        },
        "outputId": "e8572c19-13a2-4007-887c-edbd7d932d12"
      },
      "source": [
        "#!unzip \"/content/drive/My Drive/NLP_IMDBREVIEW/9914_14036_compressed_imdb_master.csv.zip\" -d \"/content/drive/My Drive/NLP_IMDBREVIEW/\""
      ],
      "execution_count": null,
      "outputs": [
        {
          "output_type": "stream",
          "text": [
            "Archive:  /content/drive/My Drive/NLP_IMDBREVIEW/9914_14036_compressed_imdb_master.csv.zip\n",
            "  inflating: /content/drive/My Drive/NLP_IMDBREVIEW/imdb_master.csv  \n"
          ],
          "name": "stdout"
        }
      ]
    },
    {
      "cell_type": "code",
      "metadata": {
        "id": "2VFaVHqjCCoD",
        "colab": {
          "base_uri": "https://localhost:8080/",
          "height": 51
        },
        "outputId": "391e4414-3d39-437f-f322-eeea0cdb7f12"
      },
      "source": [
        "!unzip \"/content/drive/My Drive/NLP_IMDBREVIEW/labeledTrainData.tsv.zip\" -d \"/content/drive/My Drive/NLP_IMDBREVIEW/\""
      ],
      "execution_count": null,
      "outputs": [
        {
          "output_type": "stream",
          "text": [
            "Archive:  /content/drive/My Drive/NLP_IMDBREVIEW/labeledTrainData.tsv.zip\n",
            "  inflating: /content/drive/My Drive/NLP_IMDBREVIEW/labeledTrainData.tsv  \n"
          ],
          "name": "stdout"
        }
      ]
    },
    {
      "cell_type": "code",
      "metadata": {
        "id": "4fInfdsACG9K",
        "colab": {
          "base_uri": "https://localhost:8080/",
          "height": 204
        },
        "outputId": "7c69dee1-a8bf-4203-eff1-5a7b1ac1a4e5"
      },
      "source": [
        "#review=pd.read_csv(\"/content/drive/My Drive/NLP_IMDBREVIEW/labeledTrainData.tsv\",header=0, delimiter=\"\\t\", quoting=3)\n",
        "#review.head()"
      ],
      "execution_count": null,
      "outputs": [
        {
          "output_type": "execute_result",
          "data": {
            "text/html": [
              "<div>\n",
              "<style scoped>\n",
              "    .dataframe tbody tr th:only-of-type {\n",
              "        vertical-align: middle;\n",
              "    }\n",
              "\n",
              "    .dataframe tbody tr th {\n",
              "        vertical-align: top;\n",
              "    }\n",
              "\n",
              "    .dataframe thead th {\n",
              "        text-align: right;\n",
              "    }\n",
              "</style>\n",
              "<table border=\"1\" class=\"dataframe\">\n",
              "  <thead>\n",
              "    <tr style=\"text-align: right;\">\n",
              "      <th></th>\n",
              "      <th>id</th>\n",
              "      <th>sentiment</th>\n",
              "      <th>review</th>\n",
              "    </tr>\n",
              "  </thead>\n",
              "  <tbody>\n",
              "    <tr>\n",
              "      <th>0</th>\n",
              "      <td>\"5814_8\"</td>\n",
              "      <td>1</td>\n",
              "      <td>\"With all this stuff going down at the moment ...</td>\n",
              "    </tr>\n",
              "    <tr>\n",
              "      <th>1</th>\n",
              "      <td>\"2381_9\"</td>\n",
              "      <td>1</td>\n",
              "      <td>\"\\\"The Classic War of the Worlds\\\" by Timothy ...</td>\n",
              "    </tr>\n",
              "    <tr>\n",
              "      <th>2</th>\n",
              "      <td>\"7759_3\"</td>\n",
              "      <td>0</td>\n",
              "      <td>\"The film starts with a manager (Nicholas Bell...</td>\n",
              "    </tr>\n",
              "    <tr>\n",
              "      <th>3</th>\n",
              "      <td>\"3630_4\"</td>\n",
              "      <td>0</td>\n",
              "      <td>\"It must be assumed that those who praised thi...</td>\n",
              "    </tr>\n",
              "    <tr>\n",
              "      <th>4</th>\n",
              "      <td>\"9495_8\"</td>\n",
              "      <td>1</td>\n",
              "      <td>\"Superbly trashy and wondrously unpretentious ...</td>\n",
              "    </tr>\n",
              "  </tbody>\n",
              "</table>\n",
              "</div>"
            ],
            "text/plain": [
              "         id  sentiment                                             review\n",
              "0  \"5814_8\"          1  \"With all this stuff going down at the moment ...\n",
              "1  \"2381_9\"          1  \"\\\"The Classic War of the Worlds\\\" by Timothy ...\n",
              "2  \"7759_3\"          0  \"The film starts with a manager (Nicholas Bell...\n",
              "3  \"3630_4\"          0  \"It must be assumed that those who praised thi...\n",
              "4  \"9495_8\"          1  \"Superbly trashy and wondrously unpretentious ..."
            ]
          },
          "metadata": {
            "tags": []
          },
          "execution_count": 156
        }
      ]
    },
    {
      "cell_type": "code",
      "metadata": {
        "id": "nU3QW-pOCZgp",
        "colab": {
          "base_uri": "https://localhost:8080/",
          "height": 204
        },
        "outputId": "9499a02f-5c6e-4a2d-de46-cd2ca8c52930"
      },
      "source": [
        "#review.tail()"
      ],
      "execution_count": null,
      "outputs": [
        {
          "output_type": "execute_result",
          "data": {
            "text/html": [
              "<div>\n",
              "<style scoped>\n",
              "    .dataframe tbody tr th:only-of-type {\n",
              "        vertical-align: middle;\n",
              "    }\n",
              "\n",
              "    .dataframe tbody tr th {\n",
              "        vertical-align: top;\n",
              "    }\n",
              "\n",
              "    .dataframe thead th {\n",
              "        text-align: right;\n",
              "    }\n",
              "</style>\n",
              "<table border=\"1\" class=\"dataframe\">\n",
              "  <thead>\n",
              "    <tr style=\"text-align: right;\">\n",
              "      <th></th>\n",
              "      <th>id</th>\n",
              "      <th>sentiment</th>\n",
              "      <th>review</th>\n",
              "    </tr>\n",
              "  </thead>\n",
              "  <tbody>\n",
              "    <tr>\n",
              "      <th>24995</th>\n",
              "      <td>\"3453_3\"</td>\n",
              "      <td>0</td>\n",
              "      <td>\"It seems like more consideration has gone int...</td>\n",
              "    </tr>\n",
              "    <tr>\n",
              "      <th>24996</th>\n",
              "      <td>\"5064_1\"</td>\n",
              "      <td>0</td>\n",
              "      <td>\"I don't believe they made this film. Complete...</td>\n",
              "    </tr>\n",
              "    <tr>\n",
              "      <th>24997</th>\n",
              "      <td>\"10905_3\"</td>\n",
              "      <td>0</td>\n",
              "      <td>\"Guy is a loser. Can't get girls, needs to bui...</td>\n",
              "    </tr>\n",
              "    <tr>\n",
              "      <th>24998</th>\n",
              "      <td>\"10194_3\"</td>\n",
              "      <td>0</td>\n",
              "      <td>\"This 30 minute documentary Buñuel made in the...</td>\n",
              "    </tr>\n",
              "    <tr>\n",
              "      <th>24999</th>\n",
              "      <td>\"8478_8\"</td>\n",
              "      <td>1</td>\n",
              "      <td>\"I saw this movie as a child and it broke my h...</td>\n",
              "    </tr>\n",
              "  </tbody>\n",
              "</table>\n",
              "</div>"
            ],
            "text/plain": [
              "              id  sentiment                                             review\n",
              "24995   \"3453_3\"          0  \"It seems like more consideration has gone int...\n",
              "24996   \"5064_1\"          0  \"I don't believe they made this film. Complete...\n",
              "24997  \"10905_3\"          0  \"Guy is a loser. Can't get girls, needs to bui...\n",
              "24998  \"10194_3\"          0  \"This 30 minute documentary Buñuel made in the...\n",
              "24999   \"8478_8\"          1  \"I saw this movie as a child and it broke my h..."
            ]
          },
          "metadata": {
            "tags": []
          },
          "execution_count": 157
        }
      ]
    },
    {
      "cell_type": "code",
      "metadata": {
        "id": "xsoT3TsBnfJs"
      },
      "source": [
        "import numpy as np\n",
        "import matplotlib.pyplot as plt\n",
        "import pandas as pd\n",
        "import csv"
      ],
      "execution_count": null,
      "outputs": []
    },
    {
      "cell_type": "code",
      "metadata": {
        "id": "iWXjxv8lnfMn",
        "colab": {
          "base_uri": "https://localhost:8080/",
          "height": 204
        },
        "outputId": "25044c11-a520-4524-ceac-a6d692d06b4c"
      },
      "source": [
        "# Importing dataset into notebook\n",
        "# we need to encode this file some of the data can't be decoded by UTf-8 , hence used \"latin-1\" encoding\n",
        "# quoting=2 means if there are any \"\" double quotes in the csv file, mainly in the review column, the pd.read_csv will ignore those \"\"\n",
        "review = pd.read_csv(\"/content/drive/My Drive/NLP_IMDBREVIEW/imdb_master.csv\", encoding=\"latin-1\", index_col=0)\n",
        "review.head()"
      ],
      "execution_count": null,
      "outputs": [
        {
          "output_type": "execute_result",
          "data": {
            "text/html": [
              "<div>\n",
              "<style scoped>\n",
              "    .dataframe tbody tr th:only-of-type {\n",
              "        vertical-align: middle;\n",
              "    }\n",
              "\n",
              "    .dataframe tbody tr th {\n",
              "        vertical-align: top;\n",
              "    }\n",
              "\n",
              "    .dataframe thead th {\n",
              "        text-align: right;\n",
              "    }\n",
              "</style>\n",
              "<table border=\"1\" class=\"dataframe\">\n",
              "  <thead>\n",
              "    <tr style=\"text-align: right;\">\n",
              "      <th></th>\n",
              "      <th>type</th>\n",
              "      <th>review</th>\n",
              "      <th>label</th>\n",
              "      <th>file</th>\n",
              "    </tr>\n",
              "  </thead>\n",
              "  <tbody>\n",
              "    <tr>\n",
              "      <th>0</th>\n",
              "      <td>test</td>\n",
              "      <td>Once again Mr. Costner has dragged out a movie...</td>\n",
              "      <td>neg</td>\n",
              "      <td>0_2.txt</td>\n",
              "    </tr>\n",
              "    <tr>\n",
              "      <th>1</th>\n",
              "      <td>test</td>\n",
              "      <td>This is an example of why the majority of acti...</td>\n",
              "      <td>neg</td>\n",
              "      <td>10000_4.txt</td>\n",
              "    </tr>\n",
              "    <tr>\n",
              "      <th>2</th>\n",
              "      <td>test</td>\n",
              "      <td>First of all I hate those moronic rappers, who...</td>\n",
              "      <td>neg</td>\n",
              "      <td>10001_1.txt</td>\n",
              "    </tr>\n",
              "    <tr>\n",
              "      <th>3</th>\n",
              "      <td>test</td>\n",
              "      <td>Not even the Beatles could write songs everyon...</td>\n",
              "      <td>neg</td>\n",
              "      <td>10002_3.txt</td>\n",
              "    </tr>\n",
              "    <tr>\n",
              "      <th>4</th>\n",
              "      <td>test</td>\n",
              "      <td>Brass pictures (movies is not a fitting word f...</td>\n",
              "      <td>neg</td>\n",
              "      <td>10003_3.txt</td>\n",
              "    </tr>\n",
              "  </tbody>\n",
              "</table>\n",
              "</div>"
            ],
            "text/plain": [
              "   type                                             review label         file\n",
              "0  test  Once again Mr. Costner has dragged out a movie...   neg      0_2.txt\n",
              "1  test  This is an example of why the majority of acti...   neg  10000_4.txt\n",
              "2  test  First of all I hate those moronic rappers, who...   neg  10001_1.txt\n",
              "3  test  Not even the Beatles could write songs everyon...   neg  10002_3.txt\n",
              "4  test  Brass pictures (movies is not a fitting word f...   neg  10003_3.txt"
            ]
          },
          "metadata": {
            "tags": []
          },
          "execution_count": 159
        }
      ]
    },
    {
      "cell_type": "code",
      "metadata": {
        "id": "nQBA-UqXz9p-",
        "colab": {
          "base_uri": "https://localhost:8080/",
          "height": 85
        },
        "outputId": "30871a79-c52a-4125-bbb3-c8a28cad3706"
      },
      "source": [
        "review.label.value_counts()"
      ],
      "execution_count": null,
      "outputs": [
        {
          "output_type": "execute_result",
          "data": {
            "text/plain": [
              "unsup    50000\n",
              "neg      25000\n",
              "pos      25000\n",
              "Name: label, dtype: int64"
            ]
          },
          "metadata": {
            "tags": []
          },
          "execution_count": 160
        }
      ]
    },
    {
      "cell_type": "code",
      "metadata": {
        "id": "jK3-LT9ez7NT"
      },
      "source": [
        "review = review[review.label != 'unsup']"
      ],
      "execution_count": null,
      "outputs": []
    },
    {
      "cell_type": "code",
      "metadata": {
        "id": "v-CXP_zT0J-l",
        "colab": {
          "base_uri": "https://localhost:8080/",
          "height": 68
        },
        "outputId": "b8dc6df9-945b-4bd8-dc1f-5633e8e59bc1"
      },
      "source": [
        "review.label.value_counts()"
      ],
      "execution_count": null,
      "outputs": [
        {
          "output_type": "execute_result",
          "data": {
            "text/plain": [
              "neg    25000\n",
              "pos    25000\n",
              "Name: label, dtype: int64"
            ]
          },
          "metadata": {
            "tags": []
          },
          "execution_count": 162
        }
      ]
    },
    {
      "cell_type": "code",
      "metadata": {
        "id": "du3sSkuYnfRg",
        "colab": {
          "base_uri": "https://localhost:8080/",
          "height": 34
        },
        "outputId": "8b14bcc4-7029-428a-daa7-0b0ad2d04f87"
      },
      "source": [
        "review.shape"
      ],
      "execution_count": null,
      "outputs": [
        {
          "output_type": "execute_result",
          "data": {
            "text/plain": [
              "(50000, 4)"
            ]
          },
          "metadata": {
            "tags": []
          },
          "execution_count": 163
        }
      ]
    },
    {
      "cell_type": "code",
      "metadata": {
        "id": "6tMsDtinnfUB",
        "colab": {
          "base_uri": "https://localhost:8080/",
          "height": 204
        },
        "outputId": "0cd5b150-e28b-4e3f-e915-b15b490f6c0e"
      },
      "source": [
        "dataset = review[['review', 'label']]\n",
        "dataset.head()"
      ],
      "execution_count": null,
      "outputs": [
        {
          "output_type": "execute_result",
          "data": {
            "text/html": [
              "<div>\n",
              "<style scoped>\n",
              "    .dataframe tbody tr th:only-of-type {\n",
              "        vertical-align: middle;\n",
              "    }\n",
              "\n",
              "    .dataframe tbody tr th {\n",
              "        vertical-align: top;\n",
              "    }\n",
              "\n",
              "    .dataframe thead th {\n",
              "        text-align: right;\n",
              "    }\n",
              "</style>\n",
              "<table border=\"1\" class=\"dataframe\">\n",
              "  <thead>\n",
              "    <tr style=\"text-align: right;\">\n",
              "      <th></th>\n",
              "      <th>review</th>\n",
              "      <th>label</th>\n",
              "    </tr>\n",
              "  </thead>\n",
              "  <tbody>\n",
              "    <tr>\n",
              "      <th>0</th>\n",
              "      <td>Once again Mr. Costner has dragged out a movie...</td>\n",
              "      <td>neg</td>\n",
              "    </tr>\n",
              "    <tr>\n",
              "      <th>1</th>\n",
              "      <td>This is an example of why the majority of acti...</td>\n",
              "      <td>neg</td>\n",
              "    </tr>\n",
              "    <tr>\n",
              "      <th>2</th>\n",
              "      <td>First of all I hate those moronic rappers, who...</td>\n",
              "      <td>neg</td>\n",
              "    </tr>\n",
              "    <tr>\n",
              "      <th>3</th>\n",
              "      <td>Not even the Beatles could write songs everyon...</td>\n",
              "      <td>neg</td>\n",
              "    </tr>\n",
              "    <tr>\n",
              "      <th>4</th>\n",
              "      <td>Brass pictures (movies is not a fitting word f...</td>\n",
              "      <td>neg</td>\n",
              "    </tr>\n",
              "  </tbody>\n",
              "</table>\n",
              "</div>"
            ],
            "text/plain": [
              "                                              review label\n",
              "0  Once again Mr. Costner has dragged out a movie...   neg\n",
              "1  This is an example of why the majority of acti...   neg\n",
              "2  First of all I hate those moronic rappers, who...   neg\n",
              "3  Not even the Beatles could write songs everyon...   neg\n",
              "4  Brass pictures (movies is not a fitting word f...   neg"
            ]
          },
          "metadata": {
            "tags": []
          },
          "execution_count": 164
        }
      ]
    },
    {
      "cell_type": "code",
      "metadata": {
        "id": "H2Utxk0fnfYy",
        "colab": {
          "base_uri": "https://localhost:8080/",
          "height": 34
        },
        "outputId": "dd3293f4-6367-489c-e02d-bcaeb5fbe7ab"
      },
      "source": [
        "dataset.shape"
      ],
      "execution_count": null,
      "outputs": [
        {
          "output_type": "execute_result",
          "data": {
            "text/plain": [
              "(50000, 2)"
            ]
          },
          "metadata": {
            "tags": []
          },
          "execution_count": 165
        }
      ]
    },
    {
      "cell_type": "markdown",
      "metadata": {
        "id": "pboKtXwbuOF1"
      },
      "source": [
        "###Split the data into training and testing"
      ]
    },
    {
      "cell_type": "code",
      "metadata": {
        "id": "G1HwTlHNuUnV"
      },
      "source": [
        "# training = dataset[:80000]\n",
        "# testing = dataset.review[80000:]"
      ],
      "execution_count": null,
      "outputs": []
    },
    {
      "cell_type": "code",
      "metadata": {
        "id": "risqEqHSuUqd",
        "colab": {
          "base_uri": "https://localhost:8080/",
          "height": 34
        },
        "outputId": "c39ca109-bf18-49dc-d4ae-da22ccdf4c3a"
      },
      "source": [
        "# training.shape, testing.shape"
      ],
      "execution_count": null,
      "outputs": [
        {
          "output_type": "execute_result",
          "data": {
            "text/plain": [
              "((80000, 2), (20000,))"
            ]
          },
          "metadata": {
            "tags": []
          },
          "execution_count": 25
        }
      ]
    },
    {
      "cell_type": "markdown",
      "metadata": {
        "id": "YfPMf0Pznfas"
      },
      "source": [
        "### Cleaning the texts"
      ]
    },
    {
      "cell_type": "code",
      "metadata": {
        "id": "tpmrtG3gnfdc",
        "colab": {
          "base_uri": "https://localhost:8080/",
          "height": 51
        },
        "outputId": "89d8a4c4-ad62-4be8-bd67-34ea44056ce7"
      },
      "source": [
        "import re\n",
        "# nltk is a library which ensemble \"stopwords\", we need to remove the stopwords from our review, hence they are of no use in predicting whether review is positive or negative\n",
        "# All articles, \"the\", \"a\", \"an\" are stopwords, 'he','she'\n",
        "import nltk\n",
        "# Now we will download the stopwords from nltk library\n",
        "nltk.download('stopwords')\n",
        "# Now we are importing all downloaded stopwrds into our jupyter notebook\n",
        "from nltk.corpus import stopwords\n",
        "# Importing PortStemmer class in order to apply Stemming in our text\n",
        "# Stemming means taking a root of the words which allows us to get the true meaning of the word eg. \"loved\" and \"love\", both have the same meaning (positive), hence model should be able to predict the true\n",
        "# meaning although we use the word in different tense. Stemming allows us to do that. It allows to convert all words into present tense.\n",
        "from nltk.stem.porter import PorterStemmer"
      ],
      "execution_count": null,
      "outputs": [
        {
          "output_type": "stream",
          "text": [
            "[nltk_data] Downloading package stopwords to /root/nltk_data...\n",
            "[nltk_data]   Package stopwords is already up-to-date!\n"
          ],
          "name": "stdout"
        }
      ]
    },
    {
      "cell_type": "code",
      "metadata": {
        "id": "AS1cvflK6xg1"
      },
      "source": [
        "# creating a function to remove punctuation or non letters words\n",
        "def remove_punctuation(text):\n",
        "  \"\"\"\n",
        "  Removing punctuation from the text\n",
        "  \"\"\"\n",
        "  review = re.sub('[^a-zA-Z]', ' ', text)\n",
        "\n",
        "  return review"
      ],
      "execution_count": null,
      "outputs": []
    },
    {
      "cell_type": "code",
      "metadata": {
        "id": "G8iaX7se7Qcy",
        "colab": {
          "base_uri": "https://localhost:8080/",
          "height": 119
        },
        "outputId": "5f043acd-c1de-4d1f-8116-12fde1abe38d"
      },
      "source": [
        "dataset['Processed_Reviews'] = dataset.review.apply(lambda x: remove_punctuation(x))"
      ],
      "execution_count": null,
      "outputs": [
        {
          "output_type": "stream",
          "text": [
            "/usr/local/lib/python3.6/dist-packages/ipykernel_launcher.py:1: SettingWithCopyWarning: \n",
            "A value is trying to be set on a copy of a slice from a DataFrame.\n",
            "Try using .loc[row_indexer,col_indexer] = value instead\n",
            "\n",
            "See the caveats in the documentation: https://pandas.pydata.org/pandas-docs/stable/user_guide/indexing.html#returning-a-view-versus-a-copy\n",
            "  \"\"\"Entry point for launching an IPython kernel.\n"
          ],
          "name": "stderr"
        }
      ]
    },
    {
      "cell_type": "code",
      "metadata": {
        "id": "-M0BsqPC76VU"
      },
      "source": [
        "## Creating a function to convert all words into lowercase\n",
        "def lowercase(text):\n",
        "  \"\"\"\n",
        "  Converting text into lowercase\n",
        "  \"\"\"\n",
        "\n",
        "  review = text.lower()\n",
        "\n",
        "  return review"
      ],
      "execution_count": null,
      "outputs": []
    },
    {
      "cell_type": "code",
      "metadata": {
        "id": "n3fruXaw76jz",
        "colab": {
          "base_uri": "https://localhost:8080/",
          "height": 119
        },
        "outputId": "f5e4f301-4156-4d13-8ca4-ea5497117783"
      },
      "source": [
        "dataset['Processed_Reviews'] =dataset.Processed_Reviews.apply(lambda x: lowercase(x))"
      ],
      "execution_count": null,
      "outputs": [
        {
          "output_type": "stream",
          "text": [
            "/usr/local/lib/python3.6/dist-packages/ipykernel_launcher.py:1: SettingWithCopyWarning: \n",
            "A value is trying to be set on a copy of a slice from a DataFrame.\n",
            "Try using .loc[row_indexer,col_indexer] = value instead\n",
            "\n",
            "See the caveats in the documentation: https://pandas.pydata.org/pandas-docs/stable/user_guide/indexing.html#returning-a-view-versus-a-copy\n",
            "  \"\"\"Entry point for launching an IPython kernel.\n"
          ],
          "name": "stderr"
        }
      ]
    },
    {
      "cell_type": "code",
      "metadata": {
        "id": "rlnfagyZYnRm"
      },
      "source": [
        "ps = PorterStemmer()"
      ],
      "execution_count": null,
      "outputs": []
    },
    {
      "cell_type": "code",
      "metadata": {
        "id": "WcKi0f-e76ax"
      },
      "source": [
        "def text_stemming(text):\n",
        "  \"\"\"\n",
        "  this function does the stemming of the text and remove stopwords\n",
        "  \"\"\"\n",
        "  review = text.split()\n",
        "  # ps = PorterStemmer()\n",
        "  # applying stemming for all words for each row in review and removing stopwords from the reviews\n",
        "  \n",
        "  # review = [ps.stem(word) for word in review if not word in set(stopwords.words('english'))]\n",
        "  all_stopwords = stopwords.words('english')\n",
        "  all_stopwords.remove('not')\n",
        "  review = [ps.stem(word) for word in review if not word in set(all_stopwords)]\n",
        "  review = ' '.join(review)\n",
        "\n",
        "  return review"
      ],
      "execution_count": null,
      "outputs": []
    },
    {
      "cell_type": "code",
      "metadata": {
        "id": "LCkRFwQjmPg2"
      },
      "source": [
        "for word in set(stopwords.words('english')):\n",
        "    print(word)"
      ],
      "execution_count": null,
      "outputs": []
    },
    {
      "cell_type": "markdown",
      "metadata": {
        "id": "_ITr_DSdJgU3"
      },
      "source": [
        "### It took around 50 minutes for text_stemming() function to get the stemming done for the whole dataset😲"
      ]
    },
    {
      "cell_type": "code",
      "metadata": {
        "id": "woz3cznm88PN",
        "colab": {
          "base_uri": "https://localhost:8080/",
          "height": 119
        },
        "outputId": "94b0bf8e-81c7-42fb-cf9d-79593957df3d"
      },
      "source": [
        "dataset['Processed_Reviews'] =dataset.Processed_Reviews.apply(lambda x: text_stemming(x))"
      ],
      "execution_count": null,
      "outputs": [
        {
          "output_type": "stream",
          "text": [
            "/usr/local/lib/python3.6/dist-packages/ipykernel_launcher.py:1: SettingWithCopyWarning: \n",
            "A value is trying to be set on a copy of a slice from a DataFrame.\n",
            "Try using .loc[row_indexer,col_indexer] = value instead\n",
            "\n",
            "See the caveats in the documentation: https://pandas.pydata.org/pandas-docs/stable/user_guide/indexing.html#returning-a-view-versus-a-copy\n",
            "  \"\"\"Entry point for launching an IPython kernel.\n"
          ],
          "name": "stderr"
        }
      ]
    },
    {
      "cell_type": "markdown",
      "metadata": {
        "id": "7Rv8w7d6yWOQ"
      },
      "source": [
        "# LabelEncoding for label column "
      ]
    },
    {
      "cell_type": "code",
      "metadata": {
        "id": "kKkjRJAiycE4"
      },
      "source": [
        "from sklearn.preprocessing import LabelEncoder\n",
        "# creating instance of labelencoder\n",
        "labelencoder = LabelEncoder()\n",
        "# Assigning numerical values and storing in another column\n",
        "dataset['label_encoding'] = labelencoder.fit_transform(dataset['label'])"
      ],
      "execution_count": null,
      "outputs": []
    },
    {
      "cell_type": "code",
      "metadata": {
        "id": "3uuEe8YSdj8y",
        "colab": {
          "base_uri": "https://localhost:8080/",
          "height": 204
        },
        "outputId": "f82e93e2-c310-4706-da9d-5b6be1f38304"
      },
      "source": [
        "dataset.head()"
      ],
      "execution_count": null,
      "outputs": [
        {
          "output_type": "execute_result",
          "data": {
            "text/html": [
              "<div>\n",
              "<style scoped>\n",
              "    .dataframe tbody tr th:only-of-type {\n",
              "        vertical-align: middle;\n",
              "    }\n",
              "\n",
              "    .dataframe tbody tr th {\n",
              "        vertical-align: top;\n",
              "    }\n",
              "\n",
              "    .dataframe thead th {\n",
              "        text-align: right;\n",
              "    }\n",
              "</style>\n",
              "<table border=\"1\" class=\"dataframe\">\n",
              "  <thead>\n",
              "    <tr style=\"text-align: right;\">\n",
              "      <th></th>\n",
              "      <th>review</th>\n",
              "      <th>label</th>\n",
              "      <th>Processed_Reviews</th>\n",
              "      <th>label_encoding</th>\n",
              "    </tr>\n",
              "  </thead>\n",
              "  <tbody>\n",
              "    <tr>\n",
              "      <th>0</th>\n",
              "      <td>Once again Mr. Costner has dragged out a movie...</td>\n",
              "      <td>neg</td>\n",
              "      <td>mr costner drag movi far longer necessari asid...</td>\n",
              "      <td>0</td>\n",
              "    </tr>\n",
              "    <tr>\n",
              "      <th>1</th>\n",
              "      <td>This is an example of why the majority of acti...</td>\n",
              "      <td>neg</td>\n",
              "      <td>exampl major action film gener bore realli not...</td>\n",
              "      <td>0</td>\n",
              "    </tr>\n",
              "    <tr>\n",
              "      <th>2</th>\n",
              "      <td>First of all I hate those moronic rappers, who...</td>\n",
              "      <td>neg</td>\n",
              "      <td>first hate moron rapper could nt act gun press...</td>\n",
              "      <td>0</td>\n",
              "    </tr>\n",
              "    <tr>\n",
              "      <th>3</th>\n",
              "      <td>Not even the Beatles could write songs everyon...</td>\n",
              "      <td>neg</td>\n",
              "      <td>not even beatl could write song everyon like a...</td>\n",
              "      <td>0</td>\n",
              "    </tr>\n",
              "    <tr>\n",
              "      <th>4</th>\n",
              "      <td>Brass pictures (movies is not a fitting word f...</td>\n",
              "      <td>neg</td>\n",
              "      <td>brass pictur movi not fit word realli somewhat...</td>\n",
              "      <td>0</td>\n",
              "    </tr>\n",
              "  </tbody>\n",
              "</table>\n",
              "</div>"
            ],
            "text/plain": [
              "                                              review  ... label_encoding\n",
              "0  Once again Mr. Costner has dragged out a movie...  ...              0\n",
              "1  This is an example of why the majority of acti...  ...              0\n",
              "2  First of all I hate those moronic rappers, who...  ...              0\n",
              "3  Not even the Beatles could write songs everyon...  ...              0\n",
              "4  Brass pictures (movies is not a fitting word f...  ...              0\n",
              "\n",
              "[5 rows x 4 columns]"
            ]
          },
          "metadata": {
            "tags": []
          },
          "execution_count": 20
        }
      ]
    },
    {
      "cell_type": "code",
      "metadata": {
        "id": "o7miPWF7_Ovr"
      },
      "source": [
        "dataset.to_csv('/content/drive/My Drive/NLP_IMDBREVIEW/imdb_processed_review4.csv')"
      ],
      "execution_count": null,
      "outputs": []
    },
    {
      "cell_type": "code",
      "metadata": {
        "id": "IHXiDY5q_u9Y"
      },
      "source": [
        "df = pd.read_csv(\"/content/drive/My Drive/NLP_IMDBREVIEW/imdb_processed_review4.csv\")"
      ],
      "execution_count": null,
      "outputs": []
    },
    {
      "cell_type": "code",
      "metadata": {
        "id": "WaEiqVExdsVf",
        "colab": {
          "base_uri": "https://localhost:8080/",
          "height": 204
        },
        "outputId": "b9060c18-7e8e-4135-9a50-ea11dbf36531"
      },
      "source": [
        "df.head()"
      ],
      "execution_count": null,
      "outputs": [
        {
          "output_type": "execute_result",
          "data": {
            "text/html": [
              "<div>\n",
              "<style scoped>\n",
              "    .dataframe tbody tr th:only-of-type {\n",
              "        vertical-align: middle;\n",
              "    }\n",
              "\n",
              "    .dataframe tbody tr th {\n",
              "        vertical-align: top;\n",
              "    }\n",
              "\n",
              "    .dataframe thead th {\n",
              "        text-align: right;\n",
              "    }\n",
              "</style>\n",
              "<table border=\"1\" class=\"dataframe\">\n",
              "  <thead>\n",
              "    <tr style=\"text-align: right;\">\n",
              "      <th></th>\n",
              "      <th>Unnamed: 0</th>\n",
              "      <th>review</th>\n",
              "      <th>label</th>\n",
              "      <th>Processed_Reviews</th>\n",
              "      <th>label_encoding</th>\n",
              "    </tr>\n",
              "  </thead>\n",
              "  <tbody>\n",
              "    <tr>\n",
              "      <th>0</th>\n",
              "      <td>0</td>\n",
              "      <td>Once again Mr. Costner has dragged out a movie...</td>\n",
              "      <td>neg</td>\n",
              "      <td>mr costner drag movi far longer necessari asid...</td>\n",
              "      <td>0</td>\n",
              "    </tr>\n",
              "    <tr>\n",
              "      <th>1</th>\n",
              "      <td>1</td>\n",
              "      <td>This is an example of why the majority of acti...</td>\n",
              "      <td>neg</td>\n",
              "      <td>exampl major action film gener bore realli not...</td>\n",
              "      <td>0</td>\n",
              "    </tr>\n",
              "    <tr>\n",
              "      <th>2</th>\n",
              "      <td>2</td>\n",
              "      <td>First of all I hate those moronic rappers, who...</td>\n",
              "      <td>neg</td>\n",
              "      <td>first hate moron rapper could nt act gun press...</td>\n",
              "      <td>0</td>\n",
              "    </tr>\n",
              "    <tr>\n",
              "      <th>3</th>\n",
              "      <td>3</td>\n",
              "      <td>Not even the Beatles could write songs everyon...</td>\n",
              "      <td>neg</td>\n",
              "      <td>not even beatl could write song everyon like a...</td>\n",
              "      <td>0</td>\n",
              "    </tr>\n",
              "    <tr>\n",
              "      <th>4</th>\n",
              "      <td>4</td>\n",
              "      <td>Brass pictures (movies is not a fitting word f...</td>\n",
              "      <td>neg</td>\n",
              "      <td>brass pictur movi not fit word realli somewhat...</td>\n",
              "      <td>0</td>\n",
              "    </tr>\n",
              "  </tbody>\n",
              "</table>\n",
              "</div>"
            ],
            "text/plain": [
              "   Unnamed: 0  ... label_encoding\n",
              "0           0  ...              0\n",
              "1           1  ...              0\n",
              "2           2  ...              0\n",
              "3           3  ...              0\n",
              "4           4  ...              0\n",
              "\n",
              "[5 rows x 5 columns]"
            ]
          },
          "metadata": {
            "tags": []
          },
          "execution_count": 91
        }
      ]
    },
    {
      "cell_type": "code",
      "metadata": {
        "id": "iBSXCmzhJP6Q",
        "colab": {
          "base_uri": "https://localhost:8080/",
          "height": 204
        },
        "outputId": "9e0f100b-ee1e-4153-9344-9c7af06badb2"
      },
      "source": [
        "df.tail()"
      ],
      "execution_count": null,
      "outputs": [
        {
          "output_type": "execute_result",
          "data": {
            "text/html": [
              "<div>\n",
              "<style scoped>\n",
              "    .dataframe tbody tr th:only-of-type {\n",
              "        vertical-align: middle;\n",
              "    }\n",
              "\n",
              "    .dataframe tbody tr th {\n",
              "        vertical-align: top;\n",
              "    }\n",
              "\n",
              "    .dataframe thead th {\n",
              "        text-align: right;\n",
              "    }\n",
              "</style>\n",
              "<table border=\"1\" class=\"dataframe\">\n",
              "  <thead>\n",
              "    <tr style=\"text-align: right;\">\n",
              "      <th></th>\n",
              "      <th>Unnamed: 0</th>\n",
              "      <th>review</th>\n",
              "      <th>label</th>\n",
              "      <th>Processed_Reviews</th>\n",
              "      <th>label_encoding</th>\n",
              "    </tr>\n",
              "  </thead>\n",
              "  <tbody>\n",
              "    <tr>\n",
              "      <th>49995</th>\n",
              "      <td>49995</td>\n",
              "      <td>Seeing as the vote average was pretty low, and...</td>\n",
              "      <td>pos</td>\n",
              "      <td>see vote averag pretti low fact clerk video st...</td>\n",
              "      <td>1</td>\n",
              "    </tr>\n",
              "    <tr>\n",
              "      <th>49996</th>\n",
              "      <td>49996</td>\n",
              "      <td>The plot had some wretched, unbelievable twist...</td>\n",
              "      <td>pos</td>\n",
              "      <td>plot wretch unbeliev twist howev chemistri mel...</td>\n",
              "      <td>1</td>\n",
              "    </tr>\n",
              "    <tr>\n",
              "      <th>49997</th>\n",
              "      <td>49997</td>\n",
              "      <td>I am amazed at how this movie(and most others ...</td>\n",
              "      <td>pos</td>\n",
              "      <td>amaz movi other averag star lower crappi movi ...</td>\n",
              "      <td>1</td>\n",
              "    </tr>\n",
              "    <tr>\n",
              "      <th>49998</th>\n",
              "      <td>49998</td>\n",
              "      <td>A Christmas Together actually came before my t...</td>\n",
              "      <td>pos</td>\n",
              "      <td>christma togeth actual came time rais john den...</td>\n",
              "      <td>1</td>\n",
              "    </tr>\n",
              "    <tr>\n",
              "      <th>49999</th>\n",
              "      <td>49999</td>\n",
              "      <td>Working-class romantic drama from director Mar...</td>\n",
              "      <td>pos</td>\n",
              "      <td>work class romant drama director martin ritt u...</td>\n",
              "      <td>1</td>\n",
              "    </tr>\n",
              "  </tbody>\n",
              "</table>\n",
              "</div>"
            ],
            "text/plain": [
              "       Unnamed: 0  ... label_encoding\n",
              "49995       49995  ...              1\n",
              "49996       49996  ...              1\n",
              "49997       49997  ...              1\n",
              "49998       49998  ...              1\n",
              "49999       49999  ...              1\n",
              "\n",
              "[5 rows x 5 columns]"
            ]
          },
          "metadata": {
            "tags": []
          },
          "execution_count": 92
        }
      ]
    },
    {
      "cell_type": "code",
      "metadata": {
        "id": "I2ss2mM_nfun",
        "colab": {
          "base_uri": "https://localhost:8080/",
          "height": 204
        },
        "outputId": "6a10e5f2-ec41-4af1-fcf3-28d96abf907c"
      },
      "source": [
        "# Shuffling the data\n",
        "from sklearn.utils import shuffle\n",
        "df = shuffle(df)\n",
        "df.head()"
      ],
      "execution_count": null,
      "outputs": [
        {
          "output_type": "execute_result",
          "data": {
            "text/html": [
              "<div>\n",
              "<style scoped>\n",
              "    .dataframe tbody tr th:only-of-type {\n",
              "        vertical-align: middle;\n",
              "    }\n",
              "\n",
              "    .dataframe tbody tr th {\n",
              "        vertical-align: top;\n",
              "    }\n",
              "\n",
              "    .dataframe thead th {\n",
              "        text-align: right;\n",
              "    }\n",
              "</style>\n",
              "<table border=\"1\" class=\"dataframe\">\n",
              "  <thead>\n",
              "    <tr style=\"text-align: right;\">\n",
              "      <th></th>\n",
              "      <th>Unnamed: 0</th>\n",
              "      <th>review</th>\n",
              "      <th>label</th>\n",
              "      <th>Processed_Reviews</th>\n",
              "      <th>label_encoding</th>\n",
              "    </tr>\n",
              "  </thead>\n",
              "  <tbody>\n",
              "    <tr>\n",
              "      <th>40558</th>\n",
              "      <td>40558</td>\n",
              "      <td>The late, great Robert Bloch (author of PSYCHO...</td>\n",
              "      <td>pos</td>\n",
              "      <td>late great robert bloch author psycho pay atte...</td>\n",
              "      <td>1</td>\n",
              "    </tr>\n",
              "    <tr>\n",
              "      <th>47180</th>\n",
              "      <td>47180</td>\n",
              "      <td>It does seem like this film is polarizing us. ...</td>\n",
              "      <td>pos</td>\n",
              "      <td>seem like film polar us either love hate love ...</td>\n",
              "      <td>1</td>\n",
              "    </tr>\n",
              "    <tr>\n",
              "      <th>45302</th>\n",
              "      <td>45302</td>\n",
              "      <td>Since I am so interested in lake monsters i re...</td>\n",
              "      <td>pos</td>\n",
              "      <td>sinc interest lake monster realli dug movi mov...</td>\n",
              "      <td>1</td>\n",
              "    </tr>\n",
              "    <tr>\n",
              "      <th>17966</th>\n",
              "      <td>17966</td>\n",
              "      <td>Yes, at times \"Unconditional Love\" overwhelms ...</td>\n",
              "      <td>pos</td>\n",
              "      <td>ye time uncondit love overwhelm bounc ricochet...</td>\n",
              "      <td>1</td>\n",
              "    </tr>\n",
              "    <tr>\n",
              "      <th>41450</th>\n",
              "      <td>41450</td>\n",
              "      <td>I thought this was a very good movie. It would...</td>\n",
              "      <td>pos</td>\n",
              "      <td>thought good movi would nice seen littl movi s...</td>\n",
              "      <td>1</td>\n",
              "    </tr>\n",
              "  </tbody>\n",
              "</table>\n",
              "</div>"
            ],
            "text/plain": [
              "       Unnamed: 0  ... label_encoding\n",
              "40558       40558  ...              1\n",
              "47180       47180  ...              1\n",
              "45302       45302  ...              1\n",
              "17966       17966  ...              1\n",
              "41450       41450  ...              1\n",
              "\n",
              "[5 rows x 5 columns]"
            ]
          },
          "metadata": {
            "tags": []
          },
          "execution_count": 93
        }
      ]
    },
    {
      "cell_type": "code",
      "metadata": {
        "id": "PYzts47RJasz",
        "colab": {
          "base_uri": "https://localhost:8080/",
          "height": 204
        },
        "outputId": "4956a329-4682-4a54-81da-0a04b0ffff4d"
      },
      "source": [
        "df.tail()"
      ],
      "execution_count": null,
      "outputs": [
        {
          "output_type": "execute_result",
          "data": {
            "text/html": [
              "<div>\n",
              "<style scoped>\n",
              "    .dataframe tbody tr th:only-of-type {\n",
              "        vertical-align: middle;\n",
              "    }\n",
              "\n",
              "    .dataframe tbody tr th {\n",
              "        vertical-align: top;\n",
              "    }\n",
              "\n",
              "    .dataframe thead th {\n",
              "        text-align: right;\n",
              "    }\n",
              "</style>\n",
              "<table border=\"1\" class=\"dataframe\">\n",
              "  <thead>\n",
              "    <tr style=\"text-align: right;\">\n",
              "      <th></th>\n",
              "      <th>Unnamed: 0</th>\n",
              "      <th>review</th>\n",
              "      <th>label</th>\n",
              "      <th>Processed_Reviews</th>\n",
              "      <th>label_encoding</th>\n",
              "    </tr>\n",
              "  </thead>\n",
              "  <tbody>\n",
              "    <tr>\n",
              "      <th>14489</th>\n",
              "      <td>14489</td>\n",
              "      <td>I really liked this movie. If other people wan...</td>\n",
              "      <td>pos</td>\n",
              "      <td>realli like movi peopl want give averag around...</td>\n",
              "      <td>1</td>\n",
              "    </tr>\n",
              "    <tr>\n",
              "      <th>12857</th>\n",
              "      <td>12857</td>\n",
              "      <td>This is the very first Three Stooges short wit...</td>\n",
              "      <td>pos</td>\n",
              "      <td>first three stoog short shemp saw one favorit ...</td>\n",
              "      <td>1</td>\n",
              "    </tr>\n",
              "    <tr>\n",
              "      <th>11601</th>\n",
              "      <td>11601</td>\n",
              "      <td>One of the worst movies ever made. Let's start...</td>\n",
              "      <td>neg</td>\n",
              "      <td>one worst movi ever made let start superfici j...</td>\n",
              "      <td>0</td>\n",
              "    </tr>\n",
              "    <tr>\n",
              "      <th>43641</th>\n",
              "      <td>43641</td>\n",
              "      <td>This is the movie I've seen more times than an...</td>\n",
              "      <td>pos</td>\n",
              "      <td>movi seen time believ saw averag everi year si...</td>\n",
              "      <td>1</td>\n",
              "    </tr>\n",
              "    <tr>\n",
              "      <th>22424</th>\n",
              "      <td>22424</td>\n",
              "      <td>I've been waiting 30 years to see this film. I...</td>\n",
              "      <td>pos</td>\n",
              "      <td>wait year see film play soundtrack album teena...</td>\n",
              "      <td>1</td>\n",
              "    </tr>\n",
              "  </tbody>\n",
              "</table>\n",
              "</div>"
            ],
            "text/plain": [
              "       Unnamed: 0  ... label_encoding\n",
              "14489       14489  ...              1\n",
              "12857       12857  ...              1\n",
              "11601       11601  ...              0\n",
              "43641       43641  ...              1\n",
              "22424       22424  ...              1\n",
              "\n",
              "[5 rows x 5 columns]"
            ]
          },
          "metadata": {
            "tags": []
          },
          "execution_count": 94
        }
      ]
    },
    {
      "cell_type": "code",
      "metadata": {
        "id": "6o269u0n3osq"
      },
      "source": [
        "#resetting the index\n",
        "df.reset_index(inplace=True, drop=True)"
      ],
      "execution_count": null,
      "outputs": []
    },
    {
      "cell_type": "code",
      "metadata": {
        "id": "d65dsgyv3t82",
        "colab": {
          "base_uri": "https://localhost:8080/",
          "height": 204
        },
        "outputId": "ab09dc8a-21a2-4c6a-8b19-a8628e877790"
      },
      "source": [
        "df.head()"
      ],
      "execution_count": null,
      "outputs": [
        {
          "output_type": "execute_result",
          "data": {
            "text/html": [
              "<div>\n",
              "<style scoped>\n",
              "    .dataframe tbody tr th:only-of-type {\n",
              "        vertical-align: middle;\n",
              "    }\n",
              "\n",
              "    .dataframe tbody tr th {\n",
              "        vertical-align: top;\n",
              "    }\n",
              "\n",
              "    .dataframe thead th {\n",
              "        text-align: right;\n",
              "    }\n",
              "</style>\n",
              "<table border=\"1\" class=\"dataframe\">\n",
              "  <thead>\n",
              "    <tr style=\"text-align: right;\">\n",
              "      <th></th>\n",
              "      <th>Unnamed: 0</th>\n",
              "      <th>review</th>\n",
              "      <th>label</th>\n",
              "      <th>Processed_Reviews</th>\n",
              "      <th>label_encoding</th>\n",
              "    </tr>\n",
              "  </thead>\n",
              "  <tbody>\n",
              "    <tr>\n",
              "      <th>0</th>\n",
              "      <td>40558</td>\n",
              "      <td>The late, great Robert Bloch (author of PSYCHO...</td>\n",
              "      <td>pos</td>\n",
              "      <td>late great robert bloch author psycho pay atte...</td>\n",
              "      <td>1</td>\n",
              "    </tr>\n",
              "    <tr>\n",
              "      <th>1</th>\n",
              "      <td>47180</td>\n",
              "      <td>It does seem like this film is polarizing us. ...</td>\n",
              "      <td>pos</td>\n",
              "      <td>seem like film polar us either love hate love ...</td>\n",
              "      <td>1</td>\n",
              "    </tr>\n",
              "    <tr>\n",
              "      <th>2</th>\n",
              "      <td>45302</td>\n",
              "      <td>Since I am so interested in lake monsters i re...</td>\n",
              "      <td>pos</td>\n",
              "      <td>sinc interest lake monster realli dug movi mov...</td>\n",
              "      <td>1</td>\n",
              "    </tr>\n",
              "    <tr>\n",
              "      <th>3</th>\n",
              "      <td>17966</td>\n",
              "      <td>Yes, at times \"Unconditional Love\" overwhelms ...</td>\n",
              "      <td>pos</td>\n",
              "      <td>ye time uncondit love overwhelm bounc ricochet...</td>\n",
              "      <td>1</td>\n",
              "    </tr>\n",
              "    <tr>\n",
              "      <th>4</th>\n",
              "      <td>41450</td>\n",
              "      <td>I thought this was a very good movie. It would...</td>\n",
              "      <td>pos</td>\n",
              "      <td>thought good movi would nice seen littl movi s...</td>\n",
              "      <td>1</td>\n",
              "    </tr>\n",
              "  </tbody>\n",
              "</table>\n",
              "</div>"
            ],
            "text/plain": [
              "   Unnamed: 0  ... label_encoding\n",
              "0       40558  ...              1\n",
              "1       47180  ...              1\n",
              "2       45302  ...              1\n",
              "3       17966  ...              1\n",
              "4       41450  ...              1\n",
              "\n",
              "[5 rows x 5 columns]"
            ]
          },
          "metadata": {
            "tags": []
          },
          "execution_count": 96
        }
      ]
    },
    {
      "cell_type": "code",
      "metadata": {
        "id": "an_5-YseJ89e",
        "colab": {
          "base_uri": "https://localhost:8080/",
          "height": 34
        },
        "outputId": "3212d533-98bd-4e75-d334-ce6c72550bd5"
      },
      "source": [
        "df.shape"
      ],
      "execution_count": null,
      "outputs": [
        {
          "output_type": "execute_result",
          "data": {
            "text/plain": [
              "(50000, 5)"
            ]
          },
          "metadata": {
            "tags": []
          },
          "execution_count": 97
        }
      ]
    },
    {
      "cell_type": "markdown",
      "metadata": {
        "id": "uprlYXxoL0_C"
      },
      "source": [
        "### Splitting full dataset into training and test dataset"
      ]
    },
    {
      "cell_type": "code",
      "metadata": {
        "id": "wpHs33gTL85M"
      },
      "source": [
        "training = df[:40000]\n",
        "testing = df[40000:]"
      ],
      "execution_count": null,
      "outputs": []
    },
    {
      "cell_type": "code",
      "metadata": {
        "id": "Qb_1X3ka4Uqw",
        "colab": {
          "base_uri": "https://localhost:8080/",
          "height": 204
        },
        "outputId": "5f01c702-5dcb-47d6-ae79-3fa5bbc8e13e"
      },
      "source": [
        "testing.head()"
      ],
      "execution_count": null,
      "outputs": [
        {
          "output_type": "execute_result",
          "data": {
            "text/html": [
              "<div>\n",
              "<style scoped>\n",
              "    .dataframe tbody tr th:only-of-type {\n",
              "        vertical-align: middle;\n",
              "    }\n",
              "\n",
              "    .dataframe tbody tr th {\n",
              "        vertical-align: top;\n",
              "    }\n",
              "\n",
              "    .dataframe thead th {\n",
              "        text-align: right;\n",
              "    }\n",
              "</style>\n",
              "<table border=\"1\" class=\"dataframe\">\n",
              "  <thead>\n",
              "    <tr style=\"text-align: right;\">\n",
              "      <th></th>\n",
              "      <th>Unnamed: 0</th>\n",
              "      <th>review</th>\n",
              "      <th>label</th>\n",
              "      <th>Processed_Reviews</th>\n",
              "      <th>label_encoding</th>\n",
              "    </tr>\n",
              "  </thead>\n",
              "  <tbody>\n",
              "    <tr>\n",
              "      <th>40000</th>\n",
              "      <td>31742</td>\n",
              "      <td>This is a typical low budget 1970's mess. It's...</td>\n",
              "      <td>neg</td>\n",
              "      <td>typic low budget mess suppos docudrama crew hu...</td>\n",
              "      <td>0</td>\n",
              "    </tr>\n",
              "    <tr>\n",
              "      <th>40001</th>\n",
              "      <td>28939</td>\n",
              "      <td>\"Back of Beyond\" takes place at a dive diner/g...</td>\n",
              "      <td>neg</td>\n",
              "      <td>back beyond take place dive diner ga station m...</td>\n",
              "      <td>0</td>\n",
              "    </tr>\n",
              "    <tr>\n",
              "      <th>40002</th>\n",
              "      <td>49489</td>\n",
              "      <td>Wow baby, this is indeed some fine Asian horro...</td>\n",
              "      <td>pos</td>\n",
              "      <td>wow babi inde fine asian horror gore crazi out...</td>\n",
              "      <td>1</td>\n",
              "    </tr>\n",
              "    <tr>\n",
              "      <th>40003</th>\n",
              "      <td>2987</td>\n",
              "      <td>Oh, where the hell should I begin? Give a brie...</td>\n",
              "      <td>neg</td>\n",
              "      <td>oh hell begin give brief summari stori either ...</td>\n",
              "      <td>0</td>\n",
              "    </tr>\n",
              "    <tr>\n",
              "      <th>40004</th>\n",
              "      <td>11244</td>\n",
              "      <td>Tu pa tam is one of the worst movies I've ever...</td>\n",
              "      <td>neg</td>\n",
              "      <td>tu pa tam one worst movi ever seen hand better...</td>\n",
              "      <td>0</td>\n",
              "    </tr>\n",
              "  </tbody>\n",
              "</table>\n",
              "</div>"
            ],
            "text/plain": [
              "       Unnamed: 0  ... label_encoding\n",
              "40000       31742  ...              0\n",
              "40001       28939  ...              0\n",
              "40002       49489  ...              1\n",
              "40003        2987  ...              0\n",
              "40004       11244  ...              0\n",
              "\n",
              "[5 rows x 5 columns]"
            ]
          },
          "metadata": {
            "tags": []
          },
          "execution_count": 106
        }
      ]
    },
    {
      "cell_type": "code",
      "metadata": {
        "id": "W4pJVq7f4X61"
      },
      "source": [
        "testing.reset_index(drop=True, inplace=True)"
      ],
      "execution_count": null,
      "outputs": []
    },
    {
      "cell_type": "code",
      "metadata": {
        "id": "8vSESA-n4eTg",
        "colab": {
          "base_uri": "https://localhost:8080/",
          "height": 204
        },
        "outputId": "464b250f-a3dc-4d9e-c978-28dd33787668"
      },
      "source": [
        "training.head()"
      ],
      "execution_count": null,
      "outputs": [
        {
          "output_type": "execute_result",
          "data": {
            "text/html": [
              "<div>\n",
              "<style scoped>\n",
              "    .dataframe tbody tr th:only-of-type {\n",
              "        vertical-align: middle;\n",
              "    }\n",
              "\n",
              "    .dataframe tbody tr th {\n",
              "        vertical-align: top;\n",
              "    }\n",
              "\n",
              "    .dataframe thead th {\n",
              "        text-align: right;\n",
              "    }\n",
              "</style>\n",
              "<table border=\"1\" class=\"dataframe\">\n",
              "  <thead>\n",
              "    <tr style=\"text-align: right;\">\n",
              "      <th></th>\n",
              "      <th>Unnamed: 0</th>\n",
              "      <th>review</th>\n",
              "      <th>label</th>\n",
              "      <th>Processed_Reviews</th>\n",
              "      <th>label_encoding</th>\n",
              "    </tr>\n",
              "  </thead>\n",
              "  <tbody>\n",
              "    <tr>\n",
              "      <th>0</th>\n",
              "      <td>40558</td>\n",
              "      <td>The late, great Robert Bloch (author of PSYCHO...</td>\n",
              "      <td>pos</td>\n",
              "      <td>late great robert bloch author psycho pay atte...</td>\n",
              "      <td>1</td>\n",
              "    </tr>\n",
              "    <tr>\n",
              "      <th>1</th>\n",
              "      <td>47180</td>\n",
              "      <td>It does seem like this film is polarizing us. ...</td>\n",
              "      <td>pos</td>\n",
              "      <td>seem like film polar us either love hate love ...</td>\n",
              "      <td>1</td>\n",
              "    </tr>\n",
              "    <tr>\n",
              "      <th>2</th>\n",
              "      <td>45302</td>\n",
              "      <td>Since I am so interested in lake monsters i re...</td>\n",
              "      <td>pos</td>\n",
              "      <td>sinc interest lake monster realli dug movi mov...</td>\n",
              "      <td>1</td>\n",
              "    </tr>\n",
              "    <tr>\n",
              "      <th>3</th>\n",
              "      <td>17966</td>\n",
              "      <td>Yes, at times \"Unconditional Love\" overwhelms ...</td>\n",
              "      <td>pos</td>\n",
              "      <td>ye time uncondit love overwhelm bounc ricochet...</td>\n",
              "      <td>1</td>\n",
              "    </tr>\n",
              "    <tr>\n",
              "      <th>4</th>\n",
              "      <td>41450</td>\n",
              "      <td>I thought this was a very good movie. It would...</td>\n",
              "      <td>pos</td>\n",
              "      <td>thought good movi would nice seen littl movi s...</td>\n",
              "      <td>1</td>\n",
              "    </tr>\n",
              "  </tbody>\n",
              "</table>\n",
              "</div>"
            ],
            "text/plain": [
              "   Unnamed: 0  ... label_encoding\n",
              "0       40558  ...              1\n",
              "1       47180  ...              1\n",
              "2       45302  ...              1\n",
              "3       17966  ...              1\n",
              "4       41450  ...              1\n",
              "\n",
              "[5 rows x 5 columns]"
            ]
          },
          "metadata": {
            "tags": []
          },
          "execution_count": 108
        }
      ]
    },
    {
      "cell_type": "code",
      "metadata": {
        "id": "ojAUylNM4g_O"
      },
      "source": [
        ""
      ],
      "execution_count": null,
      "outputs": []
    },
    {
      "cell_type": "markdown",
      "metadata": {
        "id": "2mYcstRur89L"
      },
      "source": [
        "### Tokenizing and Converting words into integer.\n",
        "\n",
        "This is done for training data below"
      ]
    },
    {
      "cell_type": "code",
      "metadata": {
        "id": "CfVAh7TuK9pN"
      },
      "source": [
        "from keras.preprocessing.text import Tokenizer\n",
        "max_features = 5000\n",
        "#num_words means that we want to keep most frequent 700 words from the from each row from the dataset\n",
        "tokenizer = Tokenizer(num_words=max_features)\n",
        "# fit function will provide integer token to each word in the Processed Review column, and assign the value only once to the words irrespective of its occurrence\n",
        "tokenizer.fit_on_texts(training['Processed_Reviews'])\n",
        "# text_to_sequences create sequence of most frequent\n",
        "list_tokenized_train = tokenizer.texts_to_sequences(training['Processed_Reviews'])"
      ],
      "execution_count": null,
      "outputs": []
    },
    {
      "cell_type": "code",
      "metadata": {
        "id": "j_mGxKGjYYvO",
        "colab": {
          "base_uri": "https://localhost:8080/",
          "height": 34
        },
        "outputId": "bc53cde5-6cf9-42df-996f-a04e368ac372"
      },
      "source": [
        "print('Num words = {0}'.format(len(tokenizer.word_index)))"
      ],
      "execution_count": null,
      "outputs": [
        {
          "output_type": "stream",
          "text": [
            "Num words = 61417\n"
          ],
          "name": "stdout"
        }
      ]
    },
    {
      "cell_type": "markdown",
      "metadata": {
        "id": "baXF0OgysEuY"
      },
      "source": [
        "### Tokenizer and Converting words into integers\n",
        "\n",
        "This is done for test data below"
      ]
    },
    {
      "cell_type": "code",
      "metadata": {
        "id": "_Ms9reIksX3D",
        "colab": {
          "base_uri": "https://localhost:8080/",
          "height": 204
        },
        "outputId": "8f765a24-71b3-4ec1-d281-cfe0bd7cfb5c"
      },
      "source": [
        "testing.head()"
      ],
      "execution_count": null,
      "outputs": [
        {
          "output_type": "execute_result",
          "data": {
            "text/html": [
              "<div>\n",
              "<style scoped>\n",
              "    .dataframe tbody tr th:only-of-type {\n",
              "        vertical-align: middle;\n",
              "    }\n",
              "\n",
              "    .dataframe tbody tr th {\n",
              "        vertical-align: top;\n",
              "    }\n",
              "\n",
              "    .dataframe thead th {\n",
              "        text-align: right;\n",
              "    }\n",
              "</style>\n",
              "<table border=\"1\" class=\"dataframe\">\n",
              "  <thead>\n",
              "    <tr style=\"text-align: right;\">\n",
              "      <th></th>\n",
              "      <th>Unnamed: 0</th>\n",
              "      <th>review</th>\n",
              "      <th>label</th>\n",
              "      <th>Processed_Reviews</th>\n",
              "      <th>label_encoding</th>\n",
              "    </tr>\n",
              "  </thead>\n",
              "  <tbody>\n",
              "    <tr>\n",
              "      <th>40000</th>\n",
              "      <td>40000</td>\n",
              "      <td>Kate Beckinsale steals the show! Bravo! Too ba...</td>\n",
              "      <td>pos</td>\n",
              "      <td>kate beckinsal steal show bravo bad knightli i...</td>\n",
              "      <td>1</td>\n",
              "    </tr>\n",
              "    <tr>\n",
              "      <th>40001</th>\n",
              "      <td>40001</td>\n",
              "      <td>It has taken me a while to watch this version ...</td>\n",
              "      <td>pos</td>\n",
              "      <td>taken watch version unfortun seem abl rent vid...</td>\n",
              "      <td>1</td>\n",
              "    </tr>\n",
              "    <tr>\n",
              "      <th>40002</th>\n",
              "      <td>40002</td>\n",
              "      <td>I've really enjoyed this adaptation of \"Emma\"....</td>\n",
              "      <td>pos</td>\n",
              "      <td>realli enjoy adapt emma seen mani time alway l...</td>\n",
              "      <td>1</td>\n",
              "    </tr>\n",
              "    <tr>\n",
              "      <th>40003</th>\n",
              "      <td>40003</td>\n",
              "      <td>This has long been one of my favourite adaptat...</td>\n",
              "      <td>pos</td>\n",
              "      <td>long one favourit adapt austen novel although ...</td>\n",
              "      <td>1</td>\n",
              "    </tr>\n",
              "    <tr>\n",
              "      <th>40004</th>\n",
              "      <td>40004</td>\n",
              "      <td>I've seen this movie after watching Paltrow's ...</td>\n",
              "      <td>pos</td>\n",
              "      <td>seen movi watch paltrow version found one good...</td>\n",
              "      <td>1</td>\n",
              "    </tr>\n",
              "  </tbody>\n",
              "</table>\n",
              "</div>"
            ],
            "text/plain": [
              "       Unnamed: 0  ... label_encoding\n",
              "40000       40000  ...              1\n",
              "40001       40001  ...              1\n",
              "40002       40002  ...              1\n",
              "40003       40003  ...              1\n",
              "40004       40004  ...              1\n",
              "\n",
              "[5 rows x 5 columns]"
            ]
          },
          "metadata": {
            "tags": []
          },
          "execution_count": 53
        }
      ]
    },
    {
      "cell_type": "code",
      "metadata": {
        "id": "to6obzwxsEzb"
      },
      "source": [
        "from keras.preprocessing.text import Tokenizer\n",
        "#num_words means that we want to keep most frequent 700 words from the from each row from the dataset\n",
        "#tokenizer = Tokenizer(num_words=max_features)\n",
        "# fit function will provide integer token to each word in the Processed Review column, and assign the value only once to the words irrespective of its occurrence\n",
        "#tokenizer.fit_on_texts(testing['Processed_Reviews'])\n",
        "# text_to_sequences create sequence of most frequent\n",
        "list_tokenized_test = tokenizer.texts_to_sequences(testing['Processed_Reviews'])"
      ],
      "execution_count": null,
      "outputs": []
    },
    {
      "cell_type": "markdown",
      "metadata": {
        "id": "LaN9tmm3si_a"
      },
      "source": [
        "# Padding 0 into the testing and training data.\n",
        "\n",
        "This will make sure that all review length are same."
      ]
    },
    {
      "cell_type": "code",
      "metadata": {
        "id": "czC80RqSl8IH"
      },
      "source": [
        "import tensorflow as tf\n",
        "X_train = tf.keras.preprocessing.sequence.pad_sequences(list_tokenized_train,maxlen=130)"
      ],
      "execution_count": null,
      "outputs": []
    },
    {
      "cell_type": "code",
      "metadata": {
        "id": "WUG3Q15FwLxO"
      },
      "source": [
        "y_train = training['label_encoding']"
      ],
      "execution_count": null,
      "outputs": []
    },
    {
      "cell_type": "code",
      "metadata": {
        "id": "OYQCspnpwTZb",
        "colab": {
          "base_uri": "https://localhost:8080/",
          "height": 34
        },
        "outputId": "49f44fbd-8faf-4024-f5e5-f0f5db0237a7"
      },
      "source": [
        "y_train.shape"
      ],
      "execution_count": null,
      "outputs": [
        {
          "output_type": "execute_result",
          "data": {
            "text/plain": [
              "(40000,)"
            ]
          },
          "metadata": {
            "tags": []
          },
          "execution_count": 113
        }
      ]
    },
    {
      "cell_type": "code",
      "metadata": {
        "id": "AOzTHM5YxdDa",
        "colab": {
          "base_uri": "https://localhost:8080/",
          "height": 34
        },
        "outputId": "01fc106d-e61c-4bf7-8e14-a7c243470d30"
      },
      "source": [
        "len(X_train)"
      ],
      "execution_count": null,
      "outputs": [
        {
          "output_type": "execute_result",
          "data": {
            "text/plain": [
              "40000"
            ]
          },
          "metadata": {
            "tags": []
          },
          "execution_count": 114
        }
      ]
    },
    {
      "cell_type": "markdown",
      "metadata": {
        "id": "oBUOIBGF8C7B"
      },
      "source": [
        "### Padding testing data"
      ]
    },
    {
      "cell_type": "code",
      "metadata": {
        "id": "1PTvyX6snf7d"
      },
      "source": [
        "import tensorflow as tf\n",
        "X_test = tf.keras.preprocessing.sequence.pad_sequences(list_tokenized_test,maxlen=130)"
      ],
      "execution_count": null,
      "outputs": []
    },
    {
      "cell_type": "markdown",
      "metadata": {
        "id": "HziZcRJ58LNK"
      },
      "source": [
        "Getting labels for testing data"
      ]
    },
    {
      "cell_type": "code",
      "metadata": {
        "id": "2ugIiWgr8Lcp"
      },
      "source": [
        "y_test = testing['label_encoding']"
      ],
      "execution_count": null,
      "outputs": []
    },
    {
      "cell_type": "code",
      "metadata": {
        "id": "_Cg5KAu98WXq",
        "colab": {
          "base_uri": "https://localhost:8080/",
          "height": 34
        },
        "outputId": "3733d3eb-e314-4043-ae08-eef5f51d218a"
      },
      "source": [
        "y_test.shape"
      ],
      "execution_count": null,
      "outputs": [
        {
          "output_type": "execute_result",
          "data": {
            "text/plain": [
              "(10000,)"
            ]
          },
          "metadata": {
            "tags": []
          },
          "execution_count": 131
        }
      ]
    },
    {
      "cell_type": "markdown",
      "metadata": {
        "id": "TlW080lgtAnC"
      },
      "source": [
        "### Building the model"
      ]
    },
    {
      "cell_type": "code",
      "metadata": {
        "id": "rJZDtfQqtlCO",
        "colab": {
          "base_uri": "https://localhost:8080/",
          "height": 34
        },
        "outputId": "73a5bb3e-6c21-4816-e187-a8c04bdb5e04"
      },
      "source": [
        "X_train.shape"
      ],
      "execution_count": null,
      "outputs": [
        {
          "output_type": "execute_result",
          "data": {
            "text/plain": [
              "(40000, 638)"
            ]
          },
          "metadata": {
            "tags": []
          },
          "execution_count": 132
        }
      ]
    },
    {
      "cell_type": "code",
      "metadata": {
        "id": "cSHtVRS_ugKg",
        "colab": {
          "base_uri": "https://localhost:8080/",
          "height": 51
        },
        "outputId": "95a62bd2-a9a4-42c7-f59c-b007cf295ceb"
      },
      "source": [
        "print(min(600, 1.6*40000**0.56))\n",
        "print(40000**0.25)"
      ],
      "execution_count": null,
      "outputs": [
        {
          "output_type": "stream",
          "text": [
            "600\n",
            "14.142135623730951\n"
          ],
          "name": "stdout"
        }
      ]
    },
    {
      "cell_type": "code",
      "metadata": {
        "id": "S7jqp2i_3dSP",
        "colab": {
          "base_uri": "https://localhost:8080/",
          "height": 34
        },
        "outputId": "08766409-22e3-423d-ea8a-5eee466cbab1"
      },
      "source": [
        "print(max_features)"
      ],
      "execution_count": null,
      "outputs": [
        {
          "output_type": "stream",
          "text": [
            "5000\n"
          ],
          "name": "stdout"
        }
      ]
    },
    {
      "cell_type": "code",
      "metadata": {
        "id": "Je5SkpYXsGrW",
        "colab": {
          "base_uri": "https://localhost:8080/",
          "height": 34
        },
        "outputId": "2f8459ef-a4e4-4541-a2ae-b409089ff334"
      },
      "source": [
        "125*40000"
      ],
      "execution_count": null,
      "outputs": [
        {
          "output_type": "execute_result",
          "data": {
            "text/plain": [
              "5000000"
            ]
          },
          "metadata": {
            "tags": []
          },
          "execution_count": 27
        }
      ]
    },
    {
      "cell_type": "code",
      "metadata": {
        "id": "dzSumNW1r-HX",
        "colab": {
          "base_uri": "https://localhost:8080/",
          "height": 34
        },
        "outputId": "c0e90e3c-0452-4256-9ed1-687925c2261c"
      },
      "source": [
        "# This will give you average number of words per row, you can decide output dim according to this\n",
        "df.Processed_Reviews.apply(lambda x: len(x.split(\" \"))).mean()"
      ],
      "execution_count": null,
      "outputs": [
        {
          "output_type": "execute_result",
          "data": {
            "text/plain": [
              "123.40708"
            ]
          },
          "metadata": {
            "tags": []
          },
          "execution_count": 64
        }
      ]
    },
    {
      "cell_type": "code",
      "metadata": {
        "id": "MJh7iTkH2iUy",
        "colab": {
          "base_uri": "https://localhost:8080/",
          "height": 51
        },
        "outputId": "e7c610e5-d4f3-46f0-d34a-dcf59972b217"
      },
      "source": [
        "testing['label_encoding'].value_counts()"
      ],
      "execution_count": null,
      "outputs": [
        {
          "output_type": "execute_result",
          "data": {
            "text/plain": [
              "1    10000\n",
              "Name: label_encoding, dtype: int64"
            ]
          },
          "metadata": {
            "tags": []
          },
          "execution_count": 89
        }
      ]
    },
    {
      "cell_type": "code",
      "metadata": {
        "id": "NkpblosEuQ41"
      },
      "source": [
        "# X_train_seq = pd.Series(X_train)\n",
        "# X_train_len = X_train_seq.map(lambda ls: len(ls))\n",
        "# X_train_len.describe()"
      ],
      "execution_count": null,
      "outputs": []
    },
    {
      "cell_type": "code",
      "metadata": {
        "id": "LMGYBi5k5kyx"
      },
      "source": [
        "## Early stopping callback\n",
        "import tensorflow as tf\n",
        "early_stopping = tf.keras.callbacks.EarlyStopping(monitor=\"val_accuracy\",\n",
        "                                                  patience = 3)"
      ],
      "execution_count": null,
      "outputs": []
    },
    {
      "cell_type": "code",
      "metadata": {
        "id": "xlHos2oG5kjn"
      },
      "source": [
        "NUM_EPOCHS = 100"
      ],
      "execution_count": null,
      "outputs": []
    },
    {
      "cell_type": "code",
      "metadata": {
        "id": "GzddaWzCtAwb",
        "colab": {
          "base_uri": "https://localhost:8080/",
          "height": 459
        },
        "outputId": "d8e282fb-3b5c-4011-f9ff-f52e2d37aae9"
      },
      "source": [
        "rnn_model = tf.keras.Sequential()\n",
        "# input dimension should be the vocalbulary size which in our case is max_features which is 700\n",
        "# Ouptput dimension should be around formula min(600, 1.6*cardinality**0.56)\n",
        "rnn_model.add(tf.keras.layers.Embedding(input_dim=max_features, output_dim=130, input_shape=(X_train.shape[1], )))\n",
        "rnn_model.add(tf.keras.layers.Bidirectional(tf.keras.layers.LSTM(units=128, return_sequences=True,activation='tanh')))\n",
        "#rnn_model.add(tf.keras.layers.LSTM(units=128, activation='tanh'))\n",
        "rnn_model.add(tf.keras.layers.GlobalMaxPool1D())\n",
        "#rnn_model.add(tf.keras.layers.Flatten())\n",
        "rnn_model.add(tf.keras.layers.Dense(units=30, activation='relu'))\n",
        "rnn_model.add(tf.keras.layers.Dropout(0.5))\n",
        "rnn_model.add(tf.keras.layers.Dense(units=10, activation='relu'))\n",
        "rnn_model.add(tf.keras.layers.Dropout(0.5))\n",
        "rnn_model.add(tf.keras.layers.Dropout(0.5))\n",
        "rnn_model.add(tf.keras.layers.Dense(units=1, activation='sigmoid'))\n",
        "rnn_model.compile(optimizer='adam',\n",
        "                  loss='binary_crossentropy',\n",
        "                  metrics=['accuracy'])\n",
        "rnn_model.summary()"
      ],
      "execution_count": null,
      "outputs": [
        {
          "output_type": "stream",
          "text": [
            "Model: \"sequential_19\"\n",
            "_________________________________________________________________\n",
            "Layer (type)                 Output Shape              Param #   \n",
            "=================================================================\n",
            "embedding_19 (Embedding)     (None, 130, 130)          650000    \n",
            "_________________________________________________________________\n",
            "bidirectional_15 (Bidirectio (None, 130, 256)          265216    \n",
            "_________________________________________________________________\n",
            "global_max_pooling1d_14 (Glo (None, 256)               0         \n",
            "_________________________________________________________________\n",
            "dense_47 (Dense)             (None, 30)                7710      \n",
            "_________________________________________________________________\n",
            "dropout_47 (Dropout)         (None, 30)                0         \n",
            "_________________________________________________________________\n",
            "dense_48 (Dense)             (None, 10)                310       \n",
            "_________________________________________________________________\n",
            "dropout_48 (Dropout)         (None, 10)                0         \n",
            "_________________________________________________________________\n",
            "dropout_49 (Dropout)         (None, 10)                0         \n",
            "_________________________________________________________________\n",
            "dense_49 (Dense)             (None, 1)                 11        \n",
            "=================================================================\n",
            "Total params: 923,247\n",
            "Trainable params: 923,247\n",
            "Non-trainable params: 0\n",
            "_________________________________________________________________\n"
          ],
          "name": "stdout"
        }
      ]
    },
    {
      "cell_type": "code",
      "metadata": {
        "id": "3lSNH91_tAzG",
        "colab": {
          "base_uri": "https://localhost:8080/",
          "height": 306
        },
        "outputId": "501f9238-1003-4069-8869-2aaa9d29a2cf"
      },
      "source": [
        "validation_split = 0.01\n",
        "rnn_model.fit(X_train, y_train, epochs=NUM_EPOCHS, batch_size=512, validation_split = validation_split, callbacks = [early_stopping])"
      ],
      "execution_count": null,
      "outputs": [
        {
          "output_type": "stream",
          "text": [
            "Epoch 1/100\n",
            "78/78 [==============================] - 7s 87ms/step - loss: 0.6527 - accuracy: 0.5947 - val_loss: 0.4469 - val_accuracy: 0.8550\n",
            "Epoch 2/100\n",
            "78/78 [==============================] - 6s 80ms/step - loss: 0.5145 - accuracy: 0.7552 - val_loss: 0.3576 - val_accuracy: 0.8925\n",
            "Epoch 3/100\n",
            "78/78 [==============================] - 6s 80ms/step - loss: 0.4481 - accuracy: 0.8096 - val_loss: 0.2998 - val_accuracy: 0.8850\n",
            "Epoch 4/100\n",
            "78/78 [==============================] - 6s 81ms/step - loss: 0.4138 - accuracy: 0.8281 - val_loss: 0.2965 - val_accuracy: 0.8975\n",
            "Epoch 5/100\n",
            "78/78 [==============================] - 6s 81ms/step - loss: 0.3854 - accuracy: 0.8443 - val_loss: 0.2970 - val_accuracy: 0.9000\n",
            "Epoch 6/100\n",
            "78/78 [==============================] - 6s 81ms/step - loss: 0.3720 - accuracy: 0.8468 - val_loss: 0.3085 - val_accuracy: 0.8750\n",
            "Epoch 7/100\n",
            "78/78 [==============================] - 6s 81ms/step - loss: 0.3544 - accuracy: 0.8542 - val_loss: 0.2792 - val_accuracy: 0.9000\n",
            "Epoch 8/100\n",
            "78/78 [==============================] - 6s 80ms/step - loss: 0.3459 - accuracy: 0.8595 - val_loss: 0.3136 - val_accuracy: 0.8675\n"
          ],
          "name": "stdout"
        },
        {
          "output_type": "execute_result",
          "data": {
            "text/plain": [
              "<tensorflow.python.keras.callbacks.History at 0x7f9f44d07080>"
            ]
          },
          "metadata": {
            "tags": []
          },
          "execution_count": 125
        }
      ]
    },
    {
      "cell_type": "markdown",
      "metadata": {
        "id": "06HvLELw9iFE"
      },
      "source": [
        "### Working on test data"
      ]
    },
    {
      "cell_type": "code",
      "metadata": {
        "id": "wVog53rS9mPO",
        "colab": {
          "base_uri": "https://localhost:8080/",
          "height": 51
        },
        "outputId": "233f8976-9992-4fb9-8b8f-d027a14c4f6f"
      },
      "source": [
        "!unzip \"/content/drive/My Drive/NLP_IMDBREVIEW/testData.tsv.zip\" -d \"/content/drive/My Drive/NLP_IMDBREVIEW/\""
      ],
      "execution_count": null,
      "outputs": [
        {
          "output_type": "stream",
          "text": [
            "Archive:  /content/drive/My Drive/NLP_IMDBREVIEW/testData.tsv.zip\n",
            "  inflating: /content/drive/My Drive/NLP_IMDBREVIEW/testData.tsv  \n"
          ],
          "name": "stdout"
        }
      ]
    },
    {
      "cell_type": "code",
      "metadata": {
        "id": "yfCg4POZ9MJ8",
        "colab": {
          "base_uri": "https://localhost:8080/",
          "height": 204
        },
        "outputId": "999eeb4e-f86d-41f3-855b-2600c4a34c93"
      },
      "source": [
        "df_test=pd.read_csv(\"/content/drive/My Drive/NLP_IMDBREVIEW/testData.tsv\",header=0, delimiter=\"\\t\", quoting=3)\n",
        "df_test.head()"
      ],
      "execution_count": null,
      "outputs": [
        {
          "output_type": "execute_result",
          "data": {
            "text/html": [
              "<div>\n",
              "<style scoped>\n",
              "    .dataframe tbody tr th:only-of-type {\n",
              "        vertical-align: middle;\n",
              "    }\n",
              "\n",
              "    .dataframe tbody tr th {\n",
              "        vertical-align: top;\n",
              "    }\n",
              "\n",
              "    .dataframe thead th {\n",
              "        text-align: right;\n",
              "    }\n",
              "</style>\n",
              "<table border=\"1\" class=\"dataframe\">\n",
              "  <thead>\n",
              "    <tr style=\"text-align: right;\">\n",
              "      <th></th>\n",
              "      <th>id</th>\n",
              "      <th>review</th>\n",
              "    </tr>\n",
              "  </thead>\n",
              "  <tbody>\n",
              "    <tr>\n",
              "      <th>0</th>\n",
              "      <td>\"12311_10\"</td>\n",
              "      <td>\"Naturally in a film who's main themes are of ...</td>\n",
              "    </tr>\n",
              "    <tr>\n",
              "      <th>1</th>\n",
              "      <td>\"8348_2\"</td>\n",
              "      <td>\"This movie is a disaster within a disaster fi...</td>\n",
              "    </tr>\n",
              "    <tr>\n",
              "      <th>2</th>\n",
              "      <td>\"5828_4\"</td>\n",
              "      <td>\"All in all, this is a movie for kids. We saw ...</td>\n",
              "    </tr>\n",
              "    <tr>\n",
              "      <th>3</th>\n",
              "      <td>\"7186_2\"</td>\n",
              "      <td>\"Afraid of the Dark left me with the impressio...</td>\n",
              "    </tr>\n",
              "    <tr>\n",
              "      <th>4</th>\n",
              "      <td>\"12128_7\"</td>\n",
              "      <td>\"A very accurate depiction of small time mob l...</td>\n",
              "    </tr>\n",
              "  </tbody>\n",
              "</table>\n",
              "</div>"
            ],
            "text/plain": [
              "           id                                             review\n",
              "0  \"12311_10\"  \"Naturally in a film who's main themes are of ...\n",
              "1    \"8348_2\"  \"This movie is a disaster within a disaster fi...\n",
              "2    \"5828_4\"  \"All in all, this is a movie for kids. We saw ...\n",
              "3    \"7186_2\"  \"Afraid of the Dark left me with the impressio...\n",
              "4   \"12128_7\"  \"A very accurate depiction of small time mob l..."
            ]
          },
          "metadata": {
            "tags": []
          },
          "execution_count": 135
        }
      ]
    },
    {
      "cell_type": "code",
      "metadata": {
        "id": "MMkp_qQq-JKx",
        "colab": {
          "base_uri": "https://localhost:8080/",
          "height": 34
        },
        "outputId": "a1e83efc-9e47-4960-d07e-4ba792058c93"
      },
      "source": [
        "df_test.shape"
      ],
      "execution_count": null,
      "outputs": [
        {
          "output_type": "execute_result",
          "data": {
            "text/plain": [
              "(25000, 2)"
            ]
          },
          "metadata": {
            "tags": []
          },
          "execution_count": 136
        }
      ]
    },
    {
      "cell_type": "code",
      "metadata": {
        "id": "Iq-NhGZB-Mn6"
      },
      "source": [
        "df_test['Processed_Reviews'] = df_test.review.apply(lambda x: remove_punctuation(x))\n",
        "df_test['Processed_Reviews'] = df_test.Processed_Reviews.apply(lambda x: lowercase(x))"
      ],
      "execution_count": null,
      "outputs": []
    },
    {
      "cell_type": "code",
      "metadata": {
        "id": "q9JR6DtU-ND5"
      },
      "source": [
        "df_test['Processed_Reviews'] =df_test.Processed_Reviews.apply(lambda x: text_stemming(x))"
      ],
      "execution_count": null,
      "outputs": []
    },
    {
      "cell_type": "code",
      "metadata": {
        "id": "6an__TF2-NuL",
        "colab": {
          "base_uri": "https://localhost:8080/",
          "height": 204
        },
        "outputId": "8269c0d6-3704-45cd-c7c7-de8ff0de4f58"
      },
      "source": [
        "df_test.head()"
      ],
      "execution_count": null,
      "outputs": [
        {
          "output_type": "execute_result",
          "data": {
            "text/html": [
              "<div>\n",
              "<style scoped>\n",
              "    .dataframe tbody tr th:only-of-type {\n",
              "        vertical-align: middle;\n",
              "    }\n",
              "\n",
              "    .dataframe tbody tr th {\n",
              "        vertical-align: top;\n",
              "    }\n",
              "\n",
              "    .dataframe thead th {\n",
              "        text-align: right;\n",
              "    }\n",
              "</style>\n",
              "<table border=\"1\" class=\"dataframe\">\n",
              "  <thead>\n",
              "    <tr style=\"text-align: right;\">\n",
              "      <th></th>\n",
              "      <th>id</th>\n",
              "      <th>review</th>\n",
              "      <th>Processed_Reviews</th>\n",
              "    </tr>\n",
              "  </thead>\n",
              "  <tbody>\n",
              "    <tr>\n",
              "      <th>0</th>\n",
              "      <td>\"12311_10\"</td>\n",
              "      <td>\"Naturally in a film who's main themes are of ...</td>\n",
              "      <td>natur film main theme mortal nostalgia loss in...</td>\n",
              "    </tr>\n",
              "    <tr>\n",
              "      <th>1</th>\n",
              "      <td>\"8348_2\"</td>\n",
              "      <td>\"This movie is a disaster within a disaster fi...</td>\n",
              "      <td>movi disast within disast film full great acti...</td>\n",
              "    </tr>\n",
              "    <tr>\n",
              "      <th>2</th>\n",
              "      <td>\"5828_4\"</td>\n",
              "      <td>\"All in all, this is a movie for kids. We saw ...</td>\n",
              "      <td>movi kid saw tonight child love one point kid ...</td>\n",
              "    </tr>\n",
              "    <tr>\n",
              "      <th>3</th>\n",
              "      <td>\"7186_2\"</td>\n",
              "      <td>\"Afraid of the Dark left me with the impressio...</td>\n",
              "      <td>afraid dark left impress sever differ screenpl...</td>\n",
              "    </tr>\n",
              "    <tr>\n",
              "      <th>4</th>\n",
              "      <td>\"12128_7\"</td>\n",
              "      <td>\"A very accurate depiction of small time mob l...</td>\n",
              "      <td>accur depict small time mob life film new jers...</td>\n",
              "    </tr>\n",
              "  </tbody>\n",
              "</table>\n",
              "</div>"
            ],
            "text/plain": [
              "           id  ...                                  Processed_Reviews\n",
              "0  \"12311_10\"  ...  natur film main theme mortal nostalgia loss in...\n",
              "1    \"8348_2\"  ...  movi disast within disast film full great acti...\n",
              "2    \"5828_4\"  ...  movi kid saw tonight child love one point kid ...\n",
              "3    \"7186_2\"  ...  afraid dark left impress sever differ screenpl...\n",
              "4   \"12128_7\"  ...  accur depict small time mob life film new jers...\n",
              "\n",
              "[5 rows x 3 columns]"
            ]
          },
          "metadata": {
            "tags": []
          },
          "execution_count": 145
        }
      ]
    },
    {
      "cell_type": "code",
      "metadata": {
        "id": "i2lMOvpU-M32"
      },
      "source": [
        "from keras.preprocessing.text import Tokenizer\n",
        "import tensorflow as tf\n",
        "list_tokenized_test = tokenizer.texts_to_sequences(df_test['Processed_Reviews'])\n",
        "X_test = tf.keras.preprocessing.sequence.pad_sequences(list_tokenized_test,maxlen=130)"
      ],
      "execution_count": null,
      "outputs": []
    },
    {
      "cell_type": "code",
      "metadata": {
        "id": "JHL5IiZotA2u"
      },
      "source": [
        "prediction = rnn_model.predict(X_test)"
      ],
      "execution_count": null,
      "outputs": []
    },
    {
      "cell_type": "code",
      "metadata": {
        "id": "a7Q5b0wutBI2"
      },
      "source": [
        "y_pred = (prediction >=0.7)*1"
      ],
      "execution_count": null,
      "outputs": []
    },
    {
      "cell_type": "code",
      "metadata": {
        "id": "zbKUKsK6BT40",
        "colab": {
          "base_uri": "https://localhost:8080/",
          "height": 136
        },
        "outputId": "1355040e-c450-4567-b5b4-5d0fc4aaf4a5"
      },
      "source": [
        "y_pred"
      ],
      "execution_count": null,
      "outputs": [
        {
          "output_type": "execute_result",
          "data": {
            "text/plain": [
              "array([[0],\n",
              "       [0],\n",
              "       [0],\n",
              "       ...,\n",
              "       [1],\n",
              "       [1],\n",
              "       [0]])"
            ]
          },
          "metadata": {
            "tags": []
          },
          "execution_count": 154
        }
      ]
    },
    {
      "cell_type": "code",
      "metadata": {
        "id": "Hk_nEZhfBUL4"
      },
      "source": [
        ""
      ],
      "execution_count": null,
      "outputs": []
    },
    {
      "cell_type": "code",
      "metadata": {
        "id": "CKyYFC5ABTyj"
      },
      "source": [
        ""
      ],
      "execution_count": null,
      "outputs": []
    }
  ]
}